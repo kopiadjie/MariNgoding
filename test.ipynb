{
 "cells": [
  {
   "cell_type": "code",
   "execution_count": null,
   "metadata": {},
   "outputs": [],
   "source": []
  },
  {
   "cell_type": "code",
   "execution_count": null,
   "metadata": {},
   "outputs": [],
   "source": []
  },
  {
   "cell_type": "code",
   "execution_count": 16,
   "metadata": {},
   "outputs": [
    {
     "name": "stdout",
     "output_type": "stream",
     "text": [
      "Hasil analisis sentimen untuk teks 'film ini sangat jelek dan tidak layak untuk ditonton':\n",
      "  Negatif: 0.429\n",
      "  Netral: 0.571\n",
      "  Positif: 0.0\n"
     ]
    }
   ],
   "source": [
    "# Import library yang diperlukan\n",
    "from vaderSentiment.vaderSentiment import SentimentIntensityAnalyzer\n",
    "from googletrans import Translator\n",
    "\n",
    "# Buat objek translator\n",
    "translator = Translator()\n",
    "\n",
    "# Fungsi untuk menerjemahkan teks ke bahasa Inggris\n",
    "def translate_to_english(text):\n",
    "  \"\"\"\n",
    "  Menerjemahkan teks ke bahasa Inggris.\n",
    "\n",
    "  Args:\n",
    "    text: Teks yang ingin diterjemahkan.\n",
    "\n",
    "  Returns:\n",
    "    Teks yang telah diterjemahkan ke bahasa Inggris.\n",
    "  \"\"\"\n",
    "  translation = translator.translate(text, dest='en')\n",
    "  return translation.text\n",
    "\n",
    "# Fungsi untuk menganalisis sentimen teks\n",
    "def analyze_sentiment(text):\n",
    "  \"\"\"\n",
    "  Menganalisis sentimen teks.\n",
    "\n",
    "  Args:\n",
    "    text: Teks yang ingin dianalisis sentimennya.\n",
    "\n",
    "  Returns:\n",
    "    Dictionary yang berisi skor sentimen (negatif, netral, dan positif).\n",
    "  \"\"\"\n",
    "  analyzer = SentimentIntensityAnalyzer()\n",
    "  sentiment = analyzer.polarity_scores(text)\n",
    "  return sentiment\n",
    "\n",
    "# Minta input teks dari user\n",
    "text = input(\"Masukkan teks: \")\n",
    "\n",
    "# Terjemahkan teks ke bahasa Inggris\n",
    "translated_text = translate_to_english(text)\n",
    "\n",
    "# Analisis sentimen teks\n",
    "sentiment = analyze_sentiment(translated_text)\n",
    "\n",
    "# Cetak hasil analisis sentimen\n",
    "print(f\"Hasil analisis sentimen untuk teks '{text}':\")\n",
    "print(f\"  Negatif: {sentiment['neg']}\")\n",
    "print(f\"  Netral: {sentiment['neu']}\")\n",
    "print(f\"  Positif: {sentiment['pos']}\")\n"
   ]
  },
  {
   "cell_type": "markdown",
   "metadata": {},
   "source": []
  }
 ],
 "metadata": {
  "kernelspec": {
   "display_name": "base",
   "language": "python",
   "name": "python3"
  },
  "language_info": {
   "codemirror_mode": {
    "name": "ipython",
    "version": 3
   },
   "file_extension": ".py",
   "mimetype": "text/x-python",
   "name": "python",
   "nbconvert_exporter": "python",
   "pygments_lexer": "ipython3",
   "version": "3.11.5"
  }
 },
 "nbformat": 4,
 "nbformat_minor": 2
}
