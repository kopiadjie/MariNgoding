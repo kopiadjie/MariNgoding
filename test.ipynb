{
 "cells": [
  {
   "cell_type": "code",
   "execution_count": 19,
   "metadata": {},
   "outputs": [
    {
     "name": "stdout",
     "output_type": "stream",
     "text": [
      "Translated sentence in Indonesian: Film itu membosankan dan aktingnya buruk.\n",
      "\n",
      "Sentiment Analysis Results:\n",
      "Positive Sentiment: 0.0\n",
      "Negative Sentiment: 0.0\n",
      "Neutral Sentiment: 1.0\n",
      "Sentiment Score (Compound): 0.0\n"
     ]
    }
   ],
   "source": [
    "from googletrans import Translator\n",
    "from vaderSentiment.vaderSentiment import SentimentIntensityAnalyzer\n",
    "\n",
    "# Function to translate text to Indonesian\n",
    "def translate_to_indonesian(text):\n",
    "    translator = Translator()\n",
    "    translated_text = translator.translate(text, src='auto', dest='id')\n",
    "    return translated_text.text\n",
    "\n",
    "# Function to analyze sentiment of translated text using VADER\n",
    "def analyze_sentiment(text):\n",
    "    analyzer = SentimentIntensityAnalyzer()\n",
    "    sentiment_scores = analyzer.polarity_scores(text)\n",
    "    return sentiment_scores\n",
    "\n",
    "# Ask the user to input a sentence\n",
    "input_text = input(\"Enter a sentence: \")\n",
    "\n",
    "# Translate the sentence to Indonesian\n",
    "translated_text = translate_to_indonesian(input_text)\n",
    "\n",
    "print(\"Translated sentence in Indonesian:\", translated_text)\n",
    "\n",
    "# Analyze sentiment of the translated text\n",
    "sentiment_scores = analyze_sentiment(translated_text)\n",
    "\n",
    "# Display the sentiment analysis results\n",
    "print(\"\\nSentiment Analysis Results:\")\n",
    "print(\"Positive Sentiment:\", sentiment_scores['pos'])\n",
    "print(\"Negative Sentiment:\", sentiment_scores['neg'])\n",
    "print(\"Neutral Sentiment:\", sentiment_scores['neu'])\n",
    "print(\"Sentiment Score (Compound):\", sentiment_scores['compound'])"
   ]
  }
 ],
 "metadata": {
  "kernelspec": {
   "display_name": "base",
   "language": "python",
   "name": "python3"
  },
  "language_info": {
   "codemirror_mode": {
    "name": "ipython",
    "version": 3
   },
   "file_extension": ".py",
   "mimetype": "text/x-python",
   "name": "python",
   "nbconvert_exporter": "python",
   "pygments_lexer": "ipython3",
   "version": "3.11.5"
  }
 },
 "nbformat": 4,
 "nbformat_minor": 2
}
